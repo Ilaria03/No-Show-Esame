{
 "cells": [
  {
   "cell_type": "code",
   "execution_count": 23,
   "metadata": {},
   "outputs": [],
   "source": [
    "import pandas as pd\n",
    "import numpy as np\n",
    "from sklearn.preprocessing import LabelEncoder\n",
    "from sklearn.model_selection import train_test_split\n",
    "from sklearn.metrics import accuracy_score\n",
    "from sklearn.linear_model import LogisticRegression\n",
    "import matplotlib.pyplot as plt \n",
    "import seaborn as sns"
   ]
  },
  {
   "cell_type": "markdown",
   "metadata": {},
   "source": [
    "### Carico i file csv"
   ]
  },
  {
   "cell_type": "code",
   "execution_count": 2,
   "metadata": {},
   "outputs": [],
   "source": [
    "train_path = (\"train.csv\")\n",
    "test_path = (\"test.csv\")\n",
    "train_data = pd.read_csv(train_path)\n",
    "test_data = pd.read_csv(test_path)"
   ]
  },
  {
   "cell_type": "code",
   "execution_count": 3,
   "metadata": {
    "scrolled": true
   },
   "outputs": [
    {
     "data": {
      "text/html": [
       "<div>\n",
       "<style scoped>\n",
       "    .dataframe tbody tr th:only-of-type {\n",
       "        vertical-align: middle;\n",
       "    }\n",
       "\n",
       "    .dataframe tbody tr th {\n",
       "        vertical-align: top;\n",
       "    }\n",
       "\n",
       "    .dataframe thead th {\n",
       "        text-align: right;\n",
       "    }\n",
       "</style>\n",
       "<table border=\"1\" class=\"dataframe\">\n",
       "  <thead>\n",
       "    <tr style=\"text-align: right;\">\n",
       "      <th></th>\n",
       "      <th>Unnamed: 0</th>\n",
       "      <th>No-show</th>\n",
       "      <th>PatientId</th>\n",
       "      <th>AppointmentID</th>\n",
       "      <th>Gender</th>\n",
       "      <th>ScheduledDay</th>\n",
       "      <th>AppointmentDay</th>\n",
       "      <th>Age</th>\n",
       "      <th>Neighbourhood</th>\n",
       "      <th>Scholarship</th>\n",
       "      <th>Hipertension</th>\n",
       "      <th>Diabetes</th>\n",
       "      <th>Alcoholism</th>\n",
       "      <th>Handcap</th>\n",
       "      <th>SMS_received</th>\n",
       "    </tr>\n",
       "  </thead>\n",
       "  <tbody>\n",
       "    <tr>\n",
       "      <th>0</th>\n",
       "      <td>13211</td>\n",
       "      <td>Yes</td>\n",
       "      <td>2.247937e+12</td>\n",
       "      <td>5587761</td>\n",
       "      <td>F</td>\n",
       "      <td>2016-04-15T09:03:51Z</td>\n",
       "      <td>2016-05-18T00:00:00Z</td>\n",
       "      <td>29</td>\n",
       "      <td>SANTA MARTHA</td>\n",
       "      <td>0</td>\n",
       "      <td>0</td>\n",
       "      <td>0</td>\n",
       "      <td>0</td>\n",
       "      <td>0</td>\n",
       "      <td>0</td>\n",
       "    </tr>\n",
       "    <tr>\n",
       "      <th>1</th>\n",
       "      <td>64095</td>\n",
       "      <td>No</td>\n",
       "      <td>7.894582e+11</td>\n",
       "      <td>5774796</td>\n",
       "      <td>F</td>\n",
       "      <td>2016-06-06T08:41:45Z</td>\n",
       "      <td>2016-06-06T00:00:00Z</td>\n",
       "      <td>5</td>\n",
       "      <td>JOANA D´ARC</td>\n",
       "      <td>0</td>\n",
       "      <td>0</td>\n",
       "      <td>0</td>\n",
       "      <td>0</td>\n",
       "      <td>0</td>\n",
       "      <td>0</td>\n",
       "    </tr>\n",
       "    <tr>\n",
       "      <th>2</th>\n",
       "      <td>26796</td>\n",
       "      <td>No</td>\n",
       "      <td>3.967220e+14</td>\n",
       "      <td>5605217</td>\n",
       "      <td>M</td>\n",
       "      <td>2016-04-20T08:44:47Z</td>\n",
       "      <td>2016-05-10T00:00:00Z</td>\n",
       "      <td>64</td>\n",
       "      <td>JARDIM DA PENHA</td>\n",
       "      <td>0</td>\n",
       "      <td>0</td>\n",
       "      <td>0</td>\n",
       "      <td>0</td>\n",
       "      <td>0</td>\n",
       "      <td>1</td>\n",
       "    </tr>\n",
       "    <tr>\n",
       "      <th>3</th>\n",
       "      <td>55905</td>\n",
       "      <td>No</td>\n",
       "      <td>6.663786e+14</td>\n",
       "      <td>5720245</td>\n",
       "      <td>F</td>\n",
       "      <td>2016-05-19T13:31:38Z</td>\n",
       "      <td>2016-05-19T00:00:00Z</td>\n",
       "      <td>66</td>\n",
       "      <td>PRAIA DO CANTO</td>\n",
       "      <td>0</td>\n",
       "      <td>1</td>\n",
       "      <td>0</td>\n",
       "      <td>0</td>\n",
       "      <td>0</td>\n",
       "      <td>0</td>\n",
       "    </tr>\n",
       "    <tr>\n",
       "      <th>4</th>\n",
       "      <td>69730</td>\n",
       "      <td>No</td>\n",
       "      <td>1.835776e+12</td>\n",
       "      <td>5742007</td>\n",
       "      <td>M</td>\n",
       "      <td>2016-05-30T07:38:58Z</td>\n",
       "      <td>2016-05-30T00:00:00Z</td>\n",
       "      <td>72</td>\n",
       "      <td>RESISTÊNCIA</td>\n",
       "      <td>0</td>\n",
       "      <td>0</td>\n",
       "      <td>0</td>\n",
       "      <td>0</td>\n",
       "      <td>0</td>\n",
       "      <td>0</td>\n",
       "    </tr>\n",
       "    <tr>\n",
       "      <th>...</th>\n",
       "      <td>...</td>\n",
       "      <td>...</td>\n",
       "      <td>...</td>\n",
       "      <td>...</td>\n",
       "      <td>...</td>\n",
       "      <td>...</td>\n",
       "      <td>...</td>\n",
       "      <td>...</td>\n",
       "      <td>...</td>\n",
       "      <td>...</td>\n",
       "      <td>...</td>\n",
       "      <td>...</td>\n",
       "      <td>...</td>\n",
       "      <td>...</td>\n",
       "      <td>...</td>\n",
       "    </tr>\n",
       "    <tr>\n",
       "      <th>66310</th>\n",
       "      <td>21243</td>\n",
       "      <td>No</td>\n",
       "      <td>7.868846e+12</td>\n",
       "      <td>5721432</td>\n",
       "      <td>F</td>\n",
       "      <td>2016-05-19T16:26:59Z</td>\n",
       "      <td>2016-06-02T00:00:00Z</td>\n",
       "      <td>11</td>\n",
       "      <td>SANTOS DUMONT</td>\n",
       "      <td>0</td>\n",
       "      <td>0</td>\n",
       "      <td>0</td>\n",
       "      <td>0</td>\n",
       "      <td>0</td>\n",
       "      <td>1</td>\n",
       "    </tr>\n",
       "    <tr>\n",
       "      <th>66311</th>\n",
       "      <td>45891</td>\n",
       "      <td>No</td>\n",
       "      <td>7.711876e+13</td>\n",
       "      <td>5607080</td>\n",
       "      <td>M</td>\n",
       "      <td>2016-04-20T11:03:44Z</td>\n",
       "      <td>2016-05-11T00:00:00Z</td>\n",
       "      <td>50</td>\n",
       "      <td>TABUAZEIRO</td>\n",
       "      <td>0</td>\n",
       "      <td>1</td>\n",
       "      <td>1</td>\n",
       "      <td>0</td>\n",
       "      <td>0</td>\n",
       "      <td>1</td>\n",
       "    </tr>\n",
       "    <tr>\n",
       "      <th>66312</th>\n",
       "      <td>42613</td>\n",
       "      <td>No</td>\n",
       "      <td>6.293825e+14</td>\n",
       "      <td>5758142</td>\n",
       "      <td>F</td>\n",
       "      <td>2016-06-01T10:19:43Z</td>\n",
       "      <td>2016-06-01T00:00:00Z</td>\n",
       "      <td>42</td>\n",
       "      <td>ANDORINHAS</td>\n",
       "      <td>0</td>\n",
       "      <td>0</td>\n",
       "      <td>0</td>\n",
       "      <td>0</td>\n",
       "      <td>0</td>\n",
       "      <td>0</td>\n",
       "    </tr>\n",
       "    <tr>\n",
       "      <th>66313</th>\n",
       "      <td>43567</td>\n",
       "      <td>Yes</td>\n",
       "      <td>3.824988e+12</td>\n",
       "      <td>5579699</td>\n",
       "      <td>M</td>\n",
       "      <td>2016-04-13T15:26:38Z</td>\n",
       "      <td>2016-05-05T00:00:00Z</td>\n",
       "      <td>13</td>\n",
       "      <td>BELA VISTA</td>\n",
       "      <td>0</td>\n",
       "      <td>0</td>\n",
       "      <td>0</td>\n",
       "      <td>0</td>\n",
       "      <td>0</td>\n",
       "      <td>1</td>\n",
       "    </tr>\n",
       "    <tr>\n",
       "      <th>66314</th>\n",
       "      <td>68268</td>\n",
       "      <td>No</td>\n",
       "      <td>5.899838e+12</td>\n",
       "      <td>5693376</td>\n",
       "      <td>M</td>\n",
       "      <td>2016-05-13T07:10:57Z</td>\n",
       "      <td>2016-05-13T00:00:00Z</td>\n",
       "      <td>12</td>\n",
       "      <td>JESUS DE NAZARETH</td>\n",
       "      <td>0</td>\n",
       "      <td>0</td>\n",
       "      <td>0</td>\n",
       "      <td>0</td>\n",
       "      <td>0</td>\n",
       "      <td>0</td>\n",
       "    </tr>\n",
       "  </tbody>\n",
       "</table>\n",
       "<p>66315 rows × 15 columns</p>\n",
       "</div>"
      ],
      "text/plain": [
       "       Unnamed: 0 No-show     PatientId  AppointmentID Gender  \\\n",
       "0           13211     Yes  2.247937e+12        5587761      F   \n",
       "1           64095      No  7.894582e+11        5774796      F   \n",
       "2           26796      No  3.967220e+14        5605217      M   \n",
       "3           55905      No  6.663786e+14        5720245      F   \n",
       "4           69730      No  1.835776e+12        5742007      M   \n",
       "...           ...     ...           ...            ...    ...   \n",
       "66310       21243      No  7.868846e+12        5721432      F   \n",
       "66311       45891      No  7.711876e+13        5607080      M   \n",
       "66312       42613      No  6.293825e+14        5758142      F   \n",
       "66313       43567     Yes  3.824988e+12        5579699      M   \n",
       "66314       68268      No  5.899838e+12        5693376      M   \n",
       "\n",
       "               ScheduledDay        AppointmentDay  Age      Neighbourhood  \\\n",
       "0      2016-04-15T09:03:51Z  2016-05-18T00:00:00Z   29       SANTA MARTHA   \n",
       "1      2016-06-06T08:41:45Z  2016-06-06T00:00:00Z    5        JOANA D´ARC   \n",
       "2      2016-04-20T08:44:47Z  2016-05-10T00:00:00Z   64    JARDIM DA PENHA   \n",
       "3      2016-05-19T13:31:38Z  2016-05-19T00:00:00Z   66     PRAIA DO CANTO   \n",
       "4      2016-05-30T07:38:58Z  2016-05-30T00:00:00Z   72        RESISTÊNCIA   \n",
       "...                     ...                   ...  ...                ...   \n",
       "66310  2016-05-19T16:26:59Z  2016-06-02T00:00:00Z   11      SANTOS DUMONT   \n",
       "66311  2016-04-20T11:03:44Z  2016-05-11T00:00:00Z   50         TABUAZEIRO   \n",
       "66312  2016-06-01T10:19:43Z  2016-06-01T00:00:00Z   42         ANDORINHAS   \n",
       "66313  2016-04-13T15:26:38Z  2016-05-05T00:00:00Z   13         BELA VISTA   \n",
       "66314  2016-05-13T07:10:57Z  2016-05-13T00:00:00Z   12  JESUS DE NAZARETH   \n",
       "\n",
       "       Scholarship  Hipertension  Diabetes  Alcoholism  Handcap  SMS_received  \n",
       "0                0             0         0           0        0             0  \n",
       "1                0             0         0           0        0             0  \n",
       "2                0             0         0           0        0             1  \n",
       "3                0             1         0           0        0             0  \n",
       "4                0             0         0           0        0             0  \n",
       "...            ...           ...       ...         ...      ...           ...  \n",
       "66310            0             0         0           0        0             1  \n",
       "66311            0             1         1           0        0             1  \n",
       "66312            0             0         0           0        0             0  \n",
       "66313            0             0         0           0        0             1  \n",
       "66314            0             0         0           0        0             0  \n",
       "\n",
       "[66315 rows x 15 columns]"
      ]
     },
     "execution_count": 3,
     "metadata": {},
     "output_type": "execute_result"
    }
   ],
   "source": [
    "train_data"
   ]
  },
  {
   "cell_type": "code",
   "execution_count": 4,
   "metadata": {
    "scrolled": true
   },
   "outputs": [
    {
     "data": {
      "text/plain": [
       "Index(['Unnamed: 0', 'No-show', 'PatientId', 'AppointmentID', 'Gender',\n",
       "       'ScheduledDay', 'AppointmentDay', 'Age', 'Neighbourhood', 'Scholarship',\n",
       "       'Hipertension', 'Diabetes', 'Alcoholism', 'Handcap', 'SMS_received'],\n",
       "      dtype='object')"
      ]
     },
     "execution_count": 4,
     "metadata": {},
     "output_type": "execute_result"
    }
   ],
   "source": [
    "train_data.columns"
   ]
  },
  {
   "cell_type": "markdown",
   "metadata": {},
   "source": [
    "## Eliminazione da entrambi i dataset delle colonne 'Unnamed' , 'AppointmentID' e 'Gender' , le prime due perchè assumono valori tutti diversi e l'ultima perchè uomini e donne hanno comportamenti quasi identici rispetto alla possibilità di 'No-show'"
   ]
  },
  {
   "cell_type": "code",
   "execution_count": 5,
   "metadata": {},
   "outputs": [
    {
     "name": "stdout",
     "output_type": "stream",
     "text": [
      "[13211 64095 26796 ... 42613 43567 68268]\n"
     ]
    },
    {
     "data": {
      "text/plain": [
       "66315"
      ]
     },
     "execution_count": 5,
     "metadata": {},
     "output_type": "execute_result"
    }
   ],
   "source": [
    "print(train_data['Unnamed: 0'].values)\n",
    "len(train_data['Unnamed: 0'].unique())\n"
   ]
  },
  {
   "cell_type": "code",
   "execution_count": 6,
   "metadata": {},
   "outputs": [
    {
     "name": "stdout",
     "output_type": "stream",
     "text": [
      "[5587761 5774796 5605217 ... 5758142 5579699 5693376]\n"
     ]
    },
    {
     "data": {
      "text/plain": [
       "66315"
      ]
     },
     "execution_count": 6,
     "metadata": {},
     "output_type": "execute_result"
    }
   ],
   "source": [
    "print(train_data['AppointmentID'].values)\n",
    "len(train_data['AppointmentID'].unique())"
   ]
  },
  {
   "cell_type": "code",
   "execution_count": 7,
   "metadata": {},
   "outputs": [
    {
     "data": {
      "image/png": "[encoded data removed]",
      "text/plain": [
       "<Figure size 432x288 with 1 Axes>"
      ]
     },
     "metadata": {
      "needs_background": "light"
     },
     "output_type": "display_data"
    }
   ],
   "source": [
    "copy= train_data.copy()\n",
    "d = copy.groupby('Gender')[\"No-show\"].value_counts().to_frame()\n",
    "d = d.rename({\"No-show\": 'Patients %'}, axis=1).reset_index()\n",
    "d['Patients %'] = d['Patients %']/len(copy)\n",
    "ax = sns.barplot(x='Gender', y= 'Patients %',orient='v', hue='No-show', data=d)"
   ]
  },
  {
   "cell_type": "code",
   "execution_count": 8,
   "metadata": {},
   "outputs": [],
   "source": [
    "train_data.drop('Gender', axis=1, inplace=True)\n",
    "train_data.drop('AppointmentID', axis=1, inplace=True)\n",
    "train_data.drop('Unnamed: 0', axis=1, inplace=True)\n",
    "test_data.drop('Gender', axis=1, inplace=True)\n",
    "test_data.drop('AppointmentID', axis=1, inplace=True)\n",
    "test_data.drop('Unnamed: 0', axis=1, inplace=True)\n"
   ]
  },
  {
   "cell_type": "markdown",
   "metadata": {},
   "source": [
    "## Controllo dei valori nulli e delle stringhe vuote"
   ]
  },
  {
   "cell_type": "code",
   "execution_count": 9,
   "metadata": {},
   "outputs": [
    {
     "name": "stdout",
     "output_type": "stream",
     "text": [
      "PatientId 0\n",
      "Age 0\n",
      "Scholarship 0\n",
      "Hipertension 0\n",
      "Diabetes 0\n",
      "Alcoholism 0\n",
      "Handcap 0\n",
      "SMS_received 0\n"
     ]
    }
   ],
   "source": [
    "numerical_columns = [col for col in train_data.columns if (train_data[col].dtype == 'int64' or train_data[col].dtype == 'float64')]\n",
    "numerical_columns\n",
    "for col in numerical_columns:\n",
    "     print(col, train_data[col].isnull().sum())"
   ]
  },
  {
   "cell_type": "code",
   "execution_count": 10,
   "metadata": {},
   "outputs": [
    {
     "name": "stdout",
     "output_type": "stream",
     "text": [
      "PatientId 0\n",
      "Age 0\n",
      "Scholarship 0\n",
      "Hipertension 0\n",
      "Diabetes 0\n",
      "Alcoholism 0\n",
      "Handcap 0\n",
      "SMS_received 0\n"
     ]
    }
   ],
   "source": [
    "numerical_columns = [col for col in test_data.columns if (test_data[col].dtype == 'int64' or test_data[col].dtype == 'float64')]\n",
    "numerical_columns\n",
    "for col in numerical_columns:\n",
    "     print(col, test_data[col].isnull().sum())"
   ]
  },
  {
   "cell_type": "code",
   "execution_count": 11,
   "metadata": {},
   "outputs": [
    {
     "name": "stdout",
     "output_type": "stream",
     "text": [
      "No-show 0\n",
      "ScheduledDay 0\n",
      "AppointmentDay 0\n",
      "Neighbourhood 0\n"
     ]
    }
   ],
   "source": [
    "categorical_columns = [col for col in train_data.columns if train_data[col].dtype == 'object']\n",
    "categorical_columns\n",
    "for col in categorical_columns:\n",
    "    cont = 0\n",
    "    for value in train_data[col]:\n",
    "        if not value.strip():   \n",
    "            cont += 1\n",
    "    print(col, cont)"
   ]
  },
  {
   "cell_type": "code",
   "execution_count": 12,
   "metadata": {},
   "outputs": [
    {
     "name": "stdout",
     "output_type": "stream",
     "text": [
      "No-show 0\n",
      "ScheduledDay 0\n",
      "AppointmentDay 0\n",
      "Neighbourhood 0\n"
     ]
    }
   ],
   "source": [
    "categorical_columns = [col for col in test_data.columns if test_data[col].dtype == 'object']\n",
    "categorical_columns\n",
    "for col in categorical_columns:\n",
    "    cont = 0\n",
    "    for value in test_data[col]:\n",
    "        if not value.strip():   \n",
    "            cont += 1\n",
    "    print(col, cont)"
   ]
  },
  {
   "cell_type": "markdown",
   "metadata": {},
   "source": [
    "## -Casting delle stringhe  AppointmentDay e ScheduledDay a tipo Ordinal"
   ]
  },
  {
   "cell_type": "markdown",
   "metadata": {},
   "source": [
    "## -Aggiunta di una nuova colonna 'differenceBtDates' che indica i giorni che intercorrono dalla data di prenotazione e la data della visita effettiva.\n",
    "## -Eliminizione delle righe che hanno un valore negativo nel campo 'differenceBtDates'."
   ]
  },
  {
   "cell_type": "code",
   "execution_count": 13,
   "metadata": {},
   "outputs": [
    {
     "data": {
      "text/html": [
       "<div>\n",
       "<style scoped>\n",
       "    .dataframe tbody tr th:only-of-type {\n",
       "        vertical-align: middle;\n",
       "    }\n",
       "\n",
       "    .dataframe tbody tr th {\n",
       "        vertical-align: top;\n",
       "    }\n",
       "\n",
       "    .dataframe thead th {\n",
       "        text-align: right;\n",
       "    }\n",
       "</style>\n",
       "<table border=\"1\" class=\"dataframe\">\n",
       "  <thead>\n",
       "    <tr style=\"text-align: right;\">\n",
       "      <th></th>\n",
       "      <th>No-show</th>\n",
       "      <th>PatientId</th>\n",
       "      <th>ScheduledDay</th>\n",
       "      <th>AppointmentDay</th>\n",
       "      <th>Age</th>\n",
       "      <th>Neighbourhood</th>\n",
       "      <th>Scholarship</th>\n",
       "      <th>Hipertension</th>\n",
       "      <th>Diabetes</th>\n",
       "      <th>Alcoholism</th>\n",
       "      <th>Handcap</th>\n",
       "      <th>SMS_received</th>\n",
       "      <th>differenceBtDates</th>\n",
       "    </tr>\n",
       "  </thead>\n",
       "  <tbody>\n",
       "    <tr>\n",
       "      <th>5620</th>\n",
       "      <td>Yes</td>\n",
       "      <td>7.839273e+12</td>\n",
       "      <td>736094</td>\n",
       "      <td>736093</td>\n",
       "      <td>38</td>\n",
       "      <td>RESISTÊNCIA</td>\n",
       "      <td>0</td>\n",
       "      <td>0</td>\n",
       "      <td>0</td>\n",
       "      <td>0</td>\n",
       "      <td>1</td>\n",
       "      <td>0</td>\n",
       "      <td>-1</td>\n",
       "    </tr>\n",
       "    <tr>\n",
       "      <th>52502</th>\n",
       "      <td>Yes</td>\n",
       "      <td>2.425226e+13</td>\n",
       "      <td>736089</td>\n",
       "      <td>736088</td>\n",
       "      <td>22</td>\n",
       "      <td>CONSOLAÇÃO</td>\n",
       "      <td>0</td>\n",
       "      <td>0</td>\n",
       "      <td>0</td>\n",
       "      <td>0</td>\n",
       "      <td>0</td>\n",
       "      <td>0</td>\n",
       "      <td>-1</td>\n",
       "    </tr>\n",
       "  </tbody>\n",
       "</table>\n",
       "</div>"
      ],
      "text/plain": [
       "      No-show     PatientId  ScheduledDay  AppointmentDay  Age Neighbourhood  \\\n",
       "5620      Yes  7.839273e+12        736094          736093   38   RESISTÊNCIA   \n",
       "52502     Yes  2.425226e+13        736089          736088   22    CONSOLAÇÃO   \n",
       "\n",
       "       Scholarship  Hipertension  Diabetes  Alcoholism  Handcap  SMS_received  \\\n",
       "5620             0             0         0           0        1             0   \n",
       "52502            0             0         0           0        0             0   \n",
       "\n",
       "       differenceBtDates  \n",
       "5620                  -1  \n",
       "52502                 -1  "
      ]
     },
     "execution_count": 13,
     "metadata": {},
     "output_type": "execute_result"
    }
   ],
   "source": [
    "train_data[\"AppointmentDay\"]=pd.to_datetime(train_data[\"AppointmentDay\"]).dt.date\n",
    "train_data[\"ScheduledDay\"]=pd.to_datetime(train_data[\"ScheduledDay\"]).dt.date\n",
    "test_data[\"AppointmentDay\"]=pd.to_datetime(test_data[\"AppointmentDay\"]).dt.date\n",
    "test_data[\"ScheduledDay\"]=pd.to_datetime(test_data[\"ScheduledDay\"]).dt.date\n",
    "\n",
    "\n",
    "train_data[\"AppointmentDay\"] = train_data[\"AppointmentDay\"].apply(lambda x : x.toordinal())\n",
    "train_data[\"ScheduledDay\"] = train_data[\"ScheduledDay\"].apply(lambda x : x.toordinal())\n",
    "test_data[\"AppointmentDay\"] = test_data[\"AppointmentDay\"].apply(lambda x : x.toordinal())\n",
    "test_data[\"ScheduledDay\"] = test_data[\"ScheduledDay\"].apply(lambda x : x.toordinal())\n",
    "\n",
    "differenceBtDatesTrain=(train_data[\"AppointmentDay\"] - train_data[\"ScheduledDay\"])\n",
    "differenceBtDatesTest=(test_data[\"AppointmentDay\"] - test_data[\"ScheduledDay\"])\n",
    "train_data[\"differenceBtDates\"] = differenceBtDatesTrain\n",
    "test_data[\"differenceBtDates\"] = differenceBtDatesTest\n",
    "train_data[train_data[\"differenceBtDates\"]  < 0]"
   ]
  },
  {
   "cell_type": "code",
   "execution_count": 14,
   "metadata": {},
   "outputs": [
    {
     "data": {
      "text/html": [
       "<div>\n",
       "<style scoped>\n",
       "    .dataframe tbody tr th:only-of-type {\n",
       "        vertical-align: middle;\n",
       "    }\n",
       "\n",
       "    .dataframe tbody tr th {\n",
       "        vertical-align: top;\n",
       "    }\n",
       "\n",
       "    .dataframe thead th {\n",
       "        text-align: right;\n",
       "    }\n",
       "</style>\n",
       "<table border=\"1\" class=\"dataframe\">\n",
       "  <thead>\n",
       "    <tr style=\"text-align: right;\">\n",
       "      <th></th>\n",
       "      <th>No-show</th>\n",
       "      <th>PatientId</th>\n",
       "      <th>ScheduledDay</th>\n",
       "      <th>AppointmentDay</th>\n",
       "      <th>Age</th>\n",
       "      <th>Neighbourhood</th>\n",
       "      <th>Scholarship</th>\n",
       "      <th>Hipertension</th>\n",
       "      <th>Diabetes</th>\n",
       "      <th>Alcoholism</th>\n",
       "      <th>Handcap</th>\n",
       "      <th>SMS_received</th>\n",
       "      <th>differenceBtDates</th>\n",
       "    </tr>\n",
       "  </thead>\n",
       "  <tbody>\n",
       "    <tr>\n",
       "      <th>18422</th>\n",
       "      <td>Yes</td>\n",
       "      <td>9.982316e+14</td>\n",
       "      <td>736095</td>\n",
       "      <td>736089</td>\n",
       "      <td>81</td>\n",
       "      <td>SANTO ANTÔNIO</td>\n",
       "      <td>0</td>\n",
       "      <td>0</td>\n",
       "      <td>0</td>\n",
       "      <td>0</td>\n",
       "      <td>0</td>\n",
       "      <td>0</td>\n",
       "      <td>-6</td>\n",
       "    </tr>\n",
       "  </tbody>\n",
       "</table>\n",
       "</div>"
      ],
      "text/plain": [
       "      No-show     PatientId  ScheduledDay  AppointmentDay  Age  Neighbourhood  \\\n",
       "18422     Yes  9.982316e+14        736095          736089   81  SANTO ANTÔNIO   \n",
       "\n",
       "       Scholarship  Hipertension  Diabetes  Alcoholism  Handcap  SMS_received  \\\n",
       "18422            0             0         0           0        0             0   \n",
       "\n",
       "       differenceBtDates  \n",
       "18422                 -6  "
      ]
     },
     "execution_count": 14,
     "metadata": {},
     "output_type": "execute_result"
    }
   ],
   "source": [
    "test_data[test_data[\"differenceBtDates\"]  < 0]\n"
   ]
  },
  {
   "cell_type": "code",
   "execution_count": 15,
   "metadata": {},
   "outputs": [],
   "source": [
    "train_data.drop(train_data[train_data[\"differenceBtDates\"]  < 0].index, inplace=True)\n",
    "test_data.drop(test_data[test_data[\"differenceBtDates\"]  < 0].index, inplace=True)"
   ]
  },
  {
   "cell_type": "code",
   "execution_count": 16,
   "metadata": {},
   "outputs": [
    {
     "data": {
      "text/plain": [
       "Index(['No-show', 'PatientId', 'Neighbourhood'], dtype='object')"
      ]
     },
     "execution_count": 16,
     "metadata": {},
     "output_type": "execute_result"
    }
   ],
   "source": [
    "categoricalFeatures = train_data.select_dtypes(include=[\"object\",\"float64\",\"timedelta64\",\"datetime64\"]).columns\n",
    "categoricalFeatures"
   ]
  },
  {
   "cell_type": "code",
   "execution_count": 17,
   "metadata": {},
   "outputs": [
    {
     "data": {
      "text/plain": [
       "Index(['No-show', 'PatientId', 'Neighbourhood'], dtype='object')"
      ]
     },
     "execution_count": 17,
     "metadata": {},
     "output_type": "execute_result"
    }
   ],
   "source": [
    "categoricalFeatures = test_data.select_dtypes(include=[\"object\",\"float64\",\"timedelta64\",\"datetime64\"]).columns\n",
    "categoricalFeatures"
   ]
  },
  {
   "cell_type": "markdown",
   "metadata": {},
   "source": [
    "### Procedura di labeling per variabili categoriche"
   ]
  },
  {
   "cell_type": "code",
   "execution_count": 18,
   "metadata": {},
   "outputs": [],
   "source": [
    "label_train_data=train_data.copy()\n",
    "label_test_data=test_data.copy()\n",
    "label_encoder=LabelEncoder()\n",
    "for col in categoricalFeatures:\n",
    "    label_train_data[col]=label_encoder.fit_transform(label_train_data[col])\n",
    "for col in categoricalFeatures:\n",
    "    label_test_data[col]=label_encoder.fit_transform(label_test_data[col])"
   ]
  },
  {
   "cell_type": "code",
   "execution_count": 19,
   "metadata": {},
   "outputs": [],
   "source": [
    "target=\"No-show\"\n",
    "\n",
    "train_y=label_train_data[target]\n",
    "train_x=label_train_data.drop(target, axis=1)\n",
    "\n",
    "test_y=label_test_data[target]\n",
    "test_x=label_test_data.drop(target, axis=1)\n",
    "\n"
   ]
  },
  {
   "cell_type": "code",
   "execution_count": 20,
   "metadata": {},
   "outputs": [
    {
     "data": {
      "text/html": [
       "<div>\n",
       "<style scoped>\n",
       "    .dataframe tbody tr th:only-of-type {\n",
       "        vertical-align: middle;\n",
       "    }\n",
       "\n",
       "    .dataframe tbody tr th {\n",
       "        vertical-align: top;\n",
       "    }\n",
       "\n",
       "    .dataframe thead th {\n",
       "        text-align: right;\n",
       "    }\n",
       "</style>\n",
       "<table border=\"1\" class=\"dataframe\">\n",
       "  <thead>\n",
       "    <tr style=\"text-align: right;\">\n",
       "      <th></th>\n",
       "      <th>No-show</th>\n",
       "      <th>PatientId</th>\n",
       "      <th>ScheduledDay</th>\n",
       "      <th>AppointmentDay</th>\n",
       "      <th>Age</th>\n",
       "      <th>Neighbourhood</th>\n",
       "      <th>Scholarship</th>\n",
       "      <th>Hipertension</th>\n",
       "      <th>Diabetes</th>\n",
       "      <th>Alcoholism</th>\n",
       "      <th>Handcap</th>\n",
       "      <th>SMS_received</th>\n",
       "      <th>differenceBtDates</th>\n",
       "    </tr>\n",
       "  </thead>\n",
       "  <tbody>\n",
       "    <tr>\n",
       "      <th>0</th>\n",
       "      <td>1</td>\n",
       "      <td>8655</td>\n",
       "      <td>736069</td>\n",
       "      <td>736102</td>\n",
       "      <td>29</td>\n",
       "      <td>66</td>\n",
       "      <td>0</td>\n",
       "      <td>0</td>\n",
       "      <td>0</td>\n",
       "      <td>0</td>\n",
       "      <td>0</td>\n",
       "      <td>0</td>\n",
       "      <td>33</td>\n",
       "    </tr>\n",
       "    <tr>\n",
       "      <th>1</th>\n",
       "      <td>0</td>\n",
       "      <td>5944</td>\n",
       "      <td>736121</td>\n",
       "      <td>736121</td>\n",
       "      <td>5</td>\n",
       "      <td>41</td>\n",
       "      <td>0</td>\n",
       "      <td>0</td>\n",
       "      <td>0</td>\n",
       "      <td>0</td>\n",
       "      <td>0</td>\n",
       "      <td>0</td>\n",
       "      <td>0</td>\n",
       "    </tr>\n",
       "    <tr>\n",
       "      <th>2</th>\n",
       "      <td>0</td>\n",
       "      <td>37617</td>\n",
       "      <td>736074</td>\n",
       "      <td>736094</td>\n",
       "      <td>64</td>\n",
       "      <td>39</td>\n",
       "      <td>0</td>\n",
       "      <td>0</td>\n",
       "      <td>0</td>\n",
       "      <td>0</td>\n",
       "      <td>0</td>\n",
       "      <td>1</td>\n",
       "      <td>20</td>\n",
       "    </tr>\n",
       "    <tr>\n",
       "      <th>3</th>\n",
       "      <td>0</td>\n",
       "      <td>40559</td>\n",
       "      <td>736103</td>\n",
       "      <td>736103</td>\n",
       "      <td>66</td>\n",
       "      <td>55</td>\n",
       "      <td>0</td>\n",
       "      <td>1</td>\n",
       "      <td>0</td>\n",
       "      <td>0</td>\n",
       "      <td>0</td>\n",
       "      <td>0</td>\n",
       "      <td>0</td>\n",
       "    </tr>\n",
       "    <tr>\n",
       "      <th>4</th>\n",
       "      <td>0</td>\n",
       "      <td>8209</td>\n",
       "      <td>736114</td>\n",
       "      <td>736114</td>\n",
       "      <td>72</td>\n",
       "      <td>59</td>\n",
       "      <td>0</td>\n",
       "      <td>0</td>\n",
       "      <td>0</td>\n",
       "      <td>0</td>\n",
       "      <td>0</td>\n",
       "      <td>0</td>\n",
       "      <td>0</td>\n",
       "    </tr>\n",
       "    <tr>\n",
       "      <th>...</th>\n",
       "      <td>...</td>\n",
       "      <td>...</td>\n",
       "      <td>...</td>\n",
       "      <td>...</td>\n",
       "      <td>...</td>\n",
       "      <td>...</td>\n",
       "      <td>...</td>\n",
       "      <td>...</td>\n",
       "      <td>...</td>\n",
       "      <td>...</td>\n",
       "      <td>...</td>\n",
       "      <td>...</td>\n",
       "      <td>...</td>\n",
       "    </tr>\n",
       "    <tr>\n",
       "      <th>66310</th>\n",
       "      <td>0</td>\n",
       "      <td>15786</td>\n",
       "      <td>736103</td>\n",
       "      <td>736117</td>\n",
       "      <td>11</td>\n",
       "      <td>70</td>\n",
       "      <td>0</td>\n",
       "      <td>0</td>\n",
       "      <td>0</td>\n",
       "      <td>0</td>\n",
       "      <td>0</td>\n",
       "      <td>1</td>\n",
       "      <td>14</td>\n",
       "    </tr>\n",
       "    <tr>\n",
       "      <th>66311</th>\n",
       "      <td>0</td>\n",
       "      <td>30175</td>\n",
       "      <td>736074</td>\n",
       "      <td>736095</td>\n",
       "      <td>50</td>\n",
       "      <td>78</td>\n",
       "      <td>0</td>\n",
       "      <td>1</td>\n",
       "      <td>1</td>\n",
       "      <td>0</td>\n",
       "      <td>0</td>\n",
       "      <td>1</td>\n",
       "      <td>21</td>\n",
       "    </tr>\n",
       "    <tr>\n",
       "      <th>66312</th>\n",
       "      <td>0</td>\n",
       "      <td>40128</td>\n",
       "      <td>736116</td>\n",
       "      <td>736116</td>\n",
       "      <td>42</td>\n",
       "      <td>1</td>\n",
       "      <td>0</td>\n",
       "      <td>0</td>\n",
       "      <td>0</td>\n",
       "      <td>0</td>\n",
       "      <td>0</td>\n",
       "      <td>0</td>\n",
       "      <td>0</td>\n",
       "    </tr>\n",
       "    <tr>\n",
       "      <th>66313</th>\n",
       "      <td>1</td>\n",
       "      <td>10730</td>\n",
       "      <td>736067</td>\n",
       "      <td>736089</td>\n",
       "      <td>13</td>\n",
       "      <td>5</td>\n",
       "      <td>0</td>\n",
       "      <td>0</td>\n",
       "      <td>0</td>\n",
       "      <td>0</td>\n",
       "      <td>0</td>\n",
       "      <td>1</td>\n",
       "      <td>22</td>\n",
       "    </tr>\n",
       "    <tr>\n",
       "      <th>66314</th>\n",
       "      <td>0</td>\n",
       "      <td>13334</td>\n",
       "      <td>736097</td>\n",
       "      <td>736097</td>\n",
       "      <td>12</td>\n",
       "      <td>40</td>\n",
       "      <td>0</td>\n",
       "      <td>0</td>\n",
       "      <td>0</td>\n",
       "      <td>0</td>\n",
       "      <td>0</td>\n",
       "      <td>0</td>\n",
       "      <td>0</td>\n",
       "    </tr>\n",
       "  </tbody>\n",
       "</table>\n",
       "<p>66313 rows × 13 columns</p>\n",
       "</div>"
      ],
      "text/plain": [
       "       No-show  PatientId  ScheduledDay  AppointmentDay  Age  Neighbourhood  \\\n",
       "0            1       8655        736069          736102   29             66   \n",
       "1            0       5944        736121          736121    5             41   \n",
       "2            0      37617        736074          736094   64             39   \n",
       "3            0      40559        736103          736103   66             55   \n",
       "4            0       8209        736114          736114   72             59   \n",
       "...        ...        ...           ...             ...  ...            ...   \n",
       "66310        0      15786        736103          736117   11             70   \n",
       "66311        0      30175        736074          736095   50             78   \n",
       "66312        0      40128        736116          736116   42              1   \n",
       "66313        1      10730        736067          736089   13              5   \n",
       "66314        0      13334        736097          736097   12             40   \n",
       "\n",
       "       Scholarship  Hipertension  Diabetes  Alcoholism  Handcap  SMS_received  \\\n",
       "0                0             0         0           0        0             0   \n",
       "1                0             0         0           0        0             0   \n",
       "2                0             0         0           0        0             1   \n",
       "3                0             1         0           0        0             0   \n",
       "4                0             0         0           0        0             0   \n",
       "...            ...           ...       ...         ...      ...           ...   \n",
       "66310            0             0         0           0        0             1   \n",
       "66311            0             1         1           0        0             1   \n",
       "66312            0             0         0           0        0             0   \n",
       "66313            0             0         0           0        0             1   \n",
       "66314            0             0         0           0        0             0   \n",
       "\n",
       "       differenceBtDates  \n",
       "0                     33  \n",
       "1                      0  \n",
       "2                     20  \n",
       "3                      0  \n",
       "4                      0  \n",
       "...                  ...  \n",
       "66310                 14  \n",
       "66311                 21  \n",
       "66312                  0  \n",
       "66313                 22  \n",
       "66314                  0  \n",
       "\n",
       "[66313 rows x 13 columns]"
      ]
     },
     "execution_count": 20,
     "metadata": {},
     "output_type": "execute_result"
    }
   ],
   "source": [
    "label_train_data"
   ]
  },
  {
   "cell_type": "markdown",
   "metadata": {},
   "source": [
    "### Modellazione e allenamento"
   ]
  },
  {
   "cell_type": "code",
   "execution_count": 21,
   "metadata": {},
   "outputs": [
    {
     "name": "stdout",
     "output_type": "stream",
     "text": [
      "Using Logistic Regression we have an accuracy of: 80.19904998869035 %\n"
     ]
    }
   ],
   "source": [
    "model = LogisticRegression(penalty='l2', dual=False, tol=0.0001, C=1.0, fit_intercept=False, \n",
    "                   intercept_scaling=1, class_weight='Balanced', random_state=None, solver='lbfgs', \n",
    "                   max_iter=100, multi_class='ovr', verbose=0, warm_start=False, n_jobs=10, l1_ratio=None)\n",
    "model.fit(train_x,train_y)\n",
    "val_pred=model.predict(test_x)\n",
    "\n"
   ]
  },
  {
   "cell_type": "markdown",
   "metadata": {},
   "source": [
    "## Accuracy"
   ]
  },
  {
   "cell_type": "code",
   "execution_count": 26,
   "metadata": {},
   "outputs": [
    {
     "name": "stdout",
     "output_type": "stream",
     "text": [
      "Accuracy ottenuta: 80.19904998869035 %\n"
     ]
    }
   ],
   "source": [
    "print(\"Accuracy ottenuta:\", accuracy_score(test_y,val_pred.round())*100, \"%\")"
   ]
  }
 ],
 "metadata": {
  "kernelspec": {
   "display_name": "Python 3",
   "language": "python",
   "name": "python3"
  },
  "language_info": {
   "codemirror_mode": {
    "name": "ipython",
    "version": 3
   },
   "file_extension": ".py",
   "mimetype": "text/x-python",
   "name": "python",
   "nbconvert_exporter": "python",
   "pygments_lexer": "ipython3",
   "version": "3.7.6"
  }
 },
 "nbformat": 4,
 "nbformat_minor": 4
}
